{
 "cells": [
  {
   "cell_type": "markdown",
   "metadata": {},
   "source": [
    "<h1> <b> Michelin restaurants in Italy web scraping Analysis </b> <img src=\"https://styles.redditmedia.com/t5_2s8x6/styles/communityIcon_ftfh5okvyxj01.png\" width=100 style=\"vertical-align: middle\"> </h1>"
   ]
  },
  {
   "cell_type": "markdown",
   "metadata": {},
   "source": [
    "In today's world, people are more eager than ever to discover culinary experiences that are both unique and unforgettable. The culinary arts have evolved from a necessity to a refined skill, with passionate chefs pushing the boundaries of creativity and flavor. For food lovers, travelers, and students of gastronomy, resources like the Michelin Guide are invaluable. This platform, accessible via the <a href=\"https://guide.michelin.com/en/it/restaurants\" > Michelin Guide website</a>, provides information, reviews, and ratings for restaurants throughout Italy and beyond, recognized for their quality, innovation, and exceptional culinary experiences.\n",
    "\n",
    "Our team is dedicated to creating a search engine tailored for food lovers, helping users discover and rank Michelin-starred restaurants across Italy based on their unique preferences. Your mission: to create an efficient and intuitive tool to explore the best culinary experiences in Italy."
   ]
  },
  {
   "cell_type": "markdown",
   "metadata": {},
   "source": [
    "<h1> <b> Import Libraries </b> <img src=\"https://preview.redd.it/snoovatar/avatars/nftv2_bmZ0X2VpcDE1NToxMzdfZWI5NTlhNzE1ZGZmZmU2ZjgyZjQ2MDU1MzM5ODJjNDg1OWNiMTRmZV8yMTQ1NzYzNg_rare_46f1cdb1-634f-4c1d-8344-2be06c7880d4-headshot.png?width=256&height=256&crop=smart&auto=webp&s=400ead9440c7a9f06ca4c44953f24c5b765c4aac\" width=120 style=\"vertical-align: middle\"> </h1>"
   ]
  },
  {
   "cell_type": "code",
   "execution_count": 31,
   "metadata": {
    "tags": []
   },
   "outputs": [],
   "source": [
    "from bs4 import BeautifulSoup\n",
    "import requests\n",
    "import os\n",
    "import pandas as pd\n",
    "import re\n",
    "import time\n",
    "from tqdm import tqdm"
   ]
  },
  {
   "cell_type": "markdown",
   "metadata": {},
   "source": [
    "# 1. Data collection"
   ]
  },
  {
   "cell_type": "code",
   "execution_count": 3,
   "metadata": {
    "tags": []
   },
   "outputs": [],
   "source": [
    "cnt = requests.get(\"https://guide.michelin.com/en/it/restaurants\")"
   ]
  },
  {
   "cell_type": "code",
   "execution_count": 37,
   "metadata": {
    "tags": []
   },
   "outputs": [
    {
     "data": {
      "text/plain": [
       "'<!DOCTYPE html>\\n<html class=\"full-screen-mobile\" dir=\"\" lang=\"en-US\">\\n <head>\\n  <meta charset=\"utf-8\"/>\\n  <meta content=\"width=device-width, initial-scale=1.0, user-scalable=0\" name=\"viewport\"/>\\n  <meta content=\"\" name=\"author\"/>\\n  <meta content=\"#fff\" name=\"theme-color\"/>\\n  <meta content=\"MICHELIN Guide\" property=\"og:site_name\"/>\\n  <meta content=\"Italy MICHELIN Restaurants – The MICHELIN Guide\" itemprop=\"name\"/>\\n  <meta content=\"Italy MICHELIN Restaurants – The MICHELIN Guide\" property=\"og:title\"/>\\n  <meta content=\"index, follow\" name=\"robots\"/>\\n  <meta content=\"Article\" property=\"og:type\"/>\\n  <meta content=\"https://guide.michelin.com/en/it/restaurants\" property=\"og:url\"/>\\n  <meta content=\"Starred restaurants, Bib Gourmand and all the Restaurants of The MICHELIN Guide Italy. MICHELIN inspector reviews and insights\" name=\"description\"/>\\n  <meta content=\"Starred restaurants, Bib Gourmand and all the Restaurants of The MICHELIN Guide Italy. MICHELIN inspector reviews and insights\" proper'"
      ]
     },
     "execution_count": 37,
     "metadata": {},
     "output_type": "execute_result"
    }
   ],
   "source": [
    "soup = BeautifulSoup(cnt.content, features=\"lxml\")\n",
    "soup.prettify()[:1000]"
   ]
  },
  {
   "cell_type": "code",
   "execution_count": 5,
   "metadata": {
    "tags": []
   },
   "outputs": [],
   "source": [
    "base_save_path = \"E:\\Michelin Restaurant\""
   ]
  },
  {
   "cell_type": "markdown",
   "metadata": {},
   "source": [
    "## 1.1. Get the list of Michelin restaurants"
   ]
  },
  {
   "cell_type": "markdown",
   "metadata": {
    "tags": []
   },
   "source": [
    "#### Our task is to collect the **URL** associated with each restaurant"
   ]
  },
  {
   "cell_type": "code",
   "execution_count": 9,
   "metadata": {
    "tags": []
   },
   "outputs": [
    {
     "name": "stderr",
     "output_type": "stream",
     "text": [
      "Reading pages: 100%|\u001b[34m██████████\u001b[0m| 100/100 [04:10<00:00,  2.51s/page]\n"
     ]
    }
   ],
   "source": [
    "full_base_url = \"https://guide.michelin.com\"\n",
    "base_url=\"https://guide.michelin.com/en/it/restaurants\"\n",
    "restaurant_links = []\n",
    "for page_num in tqdm(range(1,101), desc=\"Reading pages\", unit=\"page\",colour=\"blue\"):\n",
    "    url = f\"{base_url}/page/{page_num}\"\n",
    "    response = requests.get(url)\n",
    "    soup=BeautifulSoup(response.content, features=\"lxml\")\n",
    "    links = soup.find_all('a', class_=\"link\")  # Adjust 'link' based on actual class name for restaurant links\n",
    "    # Extract URLs from each link\n",
    "    for link in links:\n",
    "        href = link.get('href')\n",
    "        if \"/restaurant/\" in href:  # Filter only restaurant links\n",
    "        # Construct full URL and add to the list\n",
    "            restaurant_links.append(full_base_url + href)\n",
    "    time.sleep(2)"
   ]
  },
  {
   "cell_type": "code",
   "execution_count": 12,
   "metadata": {
    "tags": []
   },
   "outputs": [
    {
     "name": "stdout",
     "output_type": "stream",
     "text": [
      "1982\n"
     ]
    }
   ],
   "source": [
    "#Let's check the number of restaurant\n",
    "\n",
    "print(len(restaurant_links))"
   ]
  },
  {
   "cell_type": "code",
   "execution_count": 16,
   "metadata": {
    "tags": []
   },
   "outputs": [
    {
     "name": "stdout",
     "output_type": "stream",
     "text": [
      "https://guide.michelin.com/en/campania/gragnano/restaurant/o-me-o-il-mare\n",
      "https://guide.michelin.com/en/abruzzo/popoli_1845563/restaurant/donevandro\n",
      "https://guide.michelin.com/en/piemonte/alba/restaurant/ape-vino-e-cucina\n",
      "https://guide.michelin.com/en/campania/sorrento/restaurant/da-bob-cook-fish\n",
      "https://guide.michelin.com/en/basilicata/matera/restaurant/da-mo\n"
     ]
    }
   ],
   "source": [
    "#Visualize the first five restaurant link:\n",
    "\n",
    "print(*restaurant_links[:5],sep=\"\\n\")"
   ]
  },
  {
   "cell_type": "markdown",
   "metadata": {},
   "source": [
    "## 1.2. Crawl Michelin restaurant pages\n",
    "- ### Download the HTML corresponding to each of the collected URLs.\n",
    "- ### After collecting each page, immediately save its HTML in a file. \n",
    "- ### Organize the downloaded HTML pages into folders. Each folder will contain the HTML of the restaurants from page 1, page 2, ... of the Michelin restaurant list."
   ]
  },
  {
   "cell_type": "code",
   "execution_count": null,
   "metadata": {},
   "outputs": [],
   "source": [
    "base_save_path = \"E:\\Michelin Restaurants\""
   ]
  },
  {
   "cell_type": "code",
   "execution_count": 17,
   "metadata": {
    "tags": []
   },
   "outputs": [
    {
     "ename": "KeyboardInterrupt",
     "evalue": "",
     "output_type": "error",
     "traceback": [
      "\u001b[1;31m---------------------------------------------------------------------------\u001b[0m",
      "\u001b[1;31mKeyboardInterrupt\u001b[0m                         Traceback (most recent call last)",
      "Cell \u001b[1;32mIn[17], line 12\u001b[0m\n\u001b[0;32m     10\u001b[0m \u001b[38;5;28;01mfor\u001b[39;00m idx, url \u001b[38;5;129;01min\u001b[39;00m \u001b[38;5;28menumerate\u001b[39m(links_to_download):\n\u001b[0;32m     11\u001b[0m     filename \u001b[38;5;241m=\u001b[39m os\u001b[38;5;241m.\u001b[39mpath\u001b[38;5;241m.\u001b[39mjoin(folder_name, \u001b[38;5;124mf\u001b[39m\u001b[38;5;124m\"\u001b[39m\u001b[38;5;124mrestaurant\u001b[39m\u001b[38;5;132;01m{\u001b[39;00mi\u001b[38;5;250m \u001b[39m\u001b[38;5;241m+\u001b[39m\u001b[38;5;250m \u001b[39midx\u001b[38;5;250m \u001b[39m\u001b[38;5;241m+\u001b[39m\u001b[38;5;250m \u001b[39m\u001b[38;5;241m1\u001b[39m\u001b[38;5;132;01m}\u001b[39;00m\u001b[38;5;124m.html\u001b[39m\u001b[38;5;124m\"\u001b[39m)\n\u001b[1;32m---> 12\u001b[0m     response \u001b[38;5;241m=\u001b[39m requests\u001b[38;5;241m.\u001b[39mget(url)\n\u001b[0;32m     14\u001b[0m     \u001b[38;5;66;03m# Salva il contenuto HTML del ristorante nel file\u001b[39;00m\n\u001b[0;32m     15\u001b[0m     \u001b[38;5;28;01mwith\u001b[39;00m \u001b[38;5;28mopen\u001b[39m(filename, \u001b[38;5;124m\"\u001b[39m\u001b[38;5;124mw\u001b[39m\u001b[38;5;124m\"\u001b[39m, encoding\u001b[38;5;241m=\u001b[39m\u001b[38;5;124m\"\u001b[39m\u001b[38;5;124mutf-8\u001b[39m\u001b[38;5;124m\"\u001b[39m) \u001b[38;5;28;01mas\u001b[39;00m file:\n",
      "File \u001b[1;32m~\\anaconda3\\Lib\\site-packages\\requests\\api.py:73\u001b[0m, in \u001b[0;36mget\u001b[1;34m(url, params, **kwargs)\u001b[0m\n\u001b[0;32m     62\u001b[0m \u001b[38;5;28;01mdef\u001b[39;00m \u001b[38;5;21mget\u001b[39m(url, params\u001b[38;5;241m=\u001b[39m\u001b[38;5;28;01mNone\u001b[39;00m, \u001b[38;5;241m*\u001b[39m\u001b[38;5;241m*\u001b[39mkwargs):\n\u001b[0;32m     63\u001b[0m \u001b[38;5;250m    \u001b[39m\u001b[38;5;124mr\u001b[39m\u001b[38;5;124;03m\"\"\"Sends a GET request.\u001b[39;00m\n\u001b[0;32m     64\u001b[0m \n\u001b[0;32m     65\u001b[0m \u001b[38;5;124;03m    :param url: URL for the new :class:`Request` object.\u001b[39;00m\n\u001b[1;32m   (...)\u001b[0m\n\u001b[0;32m     70\u001b[0m \u001b[38;5;124;03m    :rtype: requests.Response\u001b[39;00m\n\u001b[0;32m     71\u001b[0m \u001b[38;5;124;03m    \"\"\"\u001b[39;00m\n\u001b[1;32m---> 73\u001b[0m     \u001b[38;5;28;01mreturn\u001b[39;00m request(\u001b[38;5;124m\"\u001b[39m\u001b[38;5;124mget\u001b[39m\u001b[38;5;124m\"\u001b[39m, url, params\u001b[38;5;241m=\u001b[39mparams, \u001b[38;5;241m*\u001b[39m\u001b[38;5;241m*\u001b[39mkwargs)\n",
      "File \u001b[1;32m~\\anaconda3\\Lib\\site-packages\\requests\\api.py:59\u001b[0m, in \u001b[0;36mrequest\u001b[1;34m(method, url, **kwargs)\u001b[0m\n\u001b[0;32m     55\u001b[0m \u001b[38;5;66;03m# By using the 'with' statement we are sure the session is closed, thus we\u001b[39;00m\n\u001b[0;32m     56\u001b[0m \u001b[38;5;66;03m# avoid leaving sockets open which can trigger a ResourceWarning in some\u001b[39;00m\n\u001b[0;32m     57\u001b[0m \u001b[38;5;66;03m# cases, and look like a memory leak in others.\u001b[39;00m\n\u001b[0;32m     58\u001b[0m \u001b[38;5;28;01mwith\u001b[39;00m sessions\u001b[38;5;241m.\u001b[39mSession() \u001b[38;5;28;01mas\u001b[39;00m session:\n\u001b[1;32m---> 59\u001b[0m     \u001b[38;5;28;01mreturn\u001b[39;00m session\u001b[38;5;241m.\u001b[39mrequest(method\u001b[38;5;241m=\u001b[39mmethod, url\u001b[38;5;241m=\u001b[39murl, \u001b[38;5;241m*\u001b[39m\u001b[38;5;241m*\u001b[39mkwargs)\n",
      "File \u001b[1;32m~\\anaconda3\\Lib\\site-packages\\requests\\sessions.py:589\u001b[0m, in \u001b[0;36mSession.request\u001b[1;34m(self, method, url, params, data, headers, cookies, files, auth, timeout, allow_redirects, proxies, hooks, stream, verify, cert, json)\u001b[0m\n\u001b[0;32m    584\u001b[0m send_kwargs \u001b[38;5;241m=\u001b[39m {\n\u001b[0;32m    585\u001b[0m     \u001b[38;5;124m\"\u001b[39m\u001b[38;5;124mtimeout\u001b[39m\u001b[38;5;124m\"\u001b[39m: timeout,\n\u001b[0;32m    586\u001b[0m     \u001b[38;5;124m\"\u001b[39m\u001b[38;5;124mallow_redirects\u001b[39m\u001b[38;5;124m\"\u001b[39m: allow_redirects,\n\u001b[0;32m    587\u001b[0m }\n\u001b[0;32m    588\u001b[0m send_kwargs\u001b[38;5;241m.\u001b[39mupdate(settings)\n\u001b[1;32m--> 589\u001b[0m resp \u001b[38;5;241m=\u001b[39m \u001b[38;5;28mself\u001b[39m\u001b[38;5;241m.\u001b[39msend(prep, \u001b[38;5;241m*\u001b[39m\u001b[38;5;241m*\u001b[39msend_kwargs)\n\u001b[0;32m    591\u001b[0m \u001b[38;5;28;01mreturn\u001b[39;00m resp\n",
      "File \u001b[1;32m~\\anaconda3\\Lib\\site-packages\\requests\\sessions.py:703\u001b[0m, in \u001b[0;36mSession.send\u001b[1;34m(self, request, **kwargs)\u001b[0m\n\u001b[0;32m    700\u001b[0m start \u001b[38;5;241m=\u001b[39m preferred_clock()\n\u001b[0;32m    702\u001b[0m \u001b[38;5;66;03m# Send the request\u001b[39;00m\n\u001b[1;32m--> 703\u001b[0m r \u001b[38;5;241m=\u001b[39m adapter\u001b[38;5;241m.\u001b[39msend(request, \u001b[38;5;241m*\u001b[39m\u001b[38;5;241m*\u001b[39mkwargs)\n\u001b[0;32m    705\u001b[0m \u001b[38;5;66;03m# Total elapsed time of the request (approximately)\u001b[39;00m\n\u001b[0;32m    706\u001b[0m elapsed \u001b[38;5;241m=\u001b[39m preferred_clock() \u001b[38;5;241m-\u001b[39m start\n",
      "File \u001b[1;32m~\\anaconda3\\Lib\\site-packages\\requests\\adapters.py:486\u001b[0m, in \u001b[0;36mHTTPAdapter.send\u001b[1;34m(self, request, stream, timeout, verify, cert, proxies)\u001b[0m\n\u001b[0;32m    483\u001b[0m     timeout \u001b[38;5;241m=\u001b[39m TimeoutSauce(connect\u001b[38;5;241m=\u001b[39mtimeout, read\u001b[38;5;241m=\u001b[39mtimeout)\n\u001b[0;32m    485\u001b[0m \u001b[38;5;28;01mtry\u001b[39;00m:\n\u001b[1;32m--> 486\u001b[0m     resp \u001b[38;5;241m=\u001b[39m conn\u001b[38;5;241m.\u001b[39murlopen(\n\u001b[0;32m    487\u001b[0m         method\u001b[38;5;241m=\u001b[39mrequest\u001b[38;5;241m.\u001b[39mmethod,\n\u001b[0;32m    488\u001b[0m         url\u001b[38;5;241m=\u001b[39murl,\n\u001b[0;32m    489\u001b[0m         body\u001b[38;5;241m=\u001b[39mrequest\u001b[38;5;241m.\u001b[39mbody,\n\u001b[0;32m    490\u001b[0m         headers\u001b[38;5;241m=\u001b[39mrequest\u001b[38;5;241m.\u001b[39mheaders,\n\u001b[0;32m    491\u001b[0m         redirect\u001b[38;5;241m=\u001b[39m\u001b[38;5;28;01mFalse\u001b[39;00m,\n\u001b[0;32m    492\u001b[0m         assert_same_host\u001b[38;5;241m=\u001b[39m\u001b[38;5;28;01mFalse\u001b[39;00m,\n\u001b[0;32m    493\u001b[0m         preload_content\u001b[38;5;241m=\u001b[39m\u001b[38;5;28;01mFalse\u001b[39;00m,\n\u001b[0;32m    494\u001b[0m         decode_content\u001b[38;5;241m=\u001b[39m\u001b[38;5;28;01mFalse\u001b[39;00m,\n\u001b[0;32m    495\u001b[0m         retries\u001b[38;5;241m=\u001b[39m\u001b[38;5;28mself\u001b[39m\u001b[38;5;241m.\u001b[39mmax_retries,\n\u001b[0;32m    496\u001b[0m         timeout\u001b[38;5;241m=\u001b[39mtimeout,\n\u001b[0;32m    497\u001b[0m         chunked\u001b[38;5;241m=\u001b[39mchunked,\n\u001b[0;32m    498\u001b[0m     )\n\u001b[0;32m    500\u001b[0m \u001b[38;5;28;01mexcept\u001b[39;00m (ProtocolError, \u001b[38;5;167;01mOSError\u001b[39;00m) \u001b[38;5;28;01mas\u001b[39;00m err:\n\u001b[0;32m    501\u001b[0m     \u001b[38;5;28;01mraise\u001b[39;00m \u001b[38;5;167;01mConnectionError\u001b[39;00m(err, request\u001b[38;5;241m=\u001b[39mrequest)\n",
      "File \u001b[1;32m~\\anaconda3\\Lib\\site-packages\\urllib3\\connectionpool.py:714\u001b[0m, in \u001b[0;36mHTTPConnectionPool.urlopen\u001b[1;34m(self, method, url, body, headers, retries, redirect, assert_same_host, timeout, pool_timeout, release_conn, chunked, body_pos, **response_kw)\u001b[0m\n\u001b[0;32m    711\u001b[0m     \u001b[38;5;28mself\u001b[39m\u001b[38;5;241m.\u001b[39m_prepare_proxy(conn)\n\u001b[0;32m    713\u001b[0m \u001b[38;5;66;03m# Make the request on the httplib connection object.\u001b[39;00m\n\u001b[1;32m--> 714\u001b[0m httplib_response \u001b[38;5;241m=\u001b[39m \u001b[38;5;28mself\u001b[39m\u001b[38;5;241m.\u001b[39m_make_request(\n\u001b[0;32m    715\u001b[0m     conn,\n\u001b[0;32m    716\u001b[0m     method,\n\u001b[0;32m    717\u001b[0m     url,\n\u001b[0;32m    718\u001b[0m     timeout\u001b[38;5;241m=\u001b[39mtimeout_obj,\n\u001b[0;32m    719\u001b[0m     body\u001b[38;5;241m=\u001b[39mbody,\n\u001b[0;32m    720\u001b[0m     headers\u001b[38;5;241m=\u001b[39mheaders,\n\u001b[0;32m    721\u001b[0m     chunked\u001b[38;5;241m=\u001b[39mchunked,\n\u001b[0;32m    722\u001b[0m )\n\u001b[0;32m    724\u001b[0m \u001b[38;5;66;03m# If we're going to release the connection in ``finally:``, then\u001b[39;00m\n\u001b[0;32m    725\u001b[0m \u001b[38;5;66;03m# the response doesn't need to know about the connection. Otherwise\u001b[39;00m\n\u001b[0;32m    726\u001b[0m \u001b[38;5;66;03m# it will also try to release it and we'll have a double-release\u001b[39;00m\n\u001b[0;32m    727\u001b[0m \u001b[38;5;66;03m# mess.\u001b[39;00m\n\u001b[0;32m    728\u001b[0m response_conn \u001b[38;5;241m=\u001b[39m conn \u001b[38;5;28;01mif\u001b[39;00m \u001b[38;5;129;01mnot\u001b[39;00m release_conn \u001b[38;5;28;01melse\u001b[39;00m \u001b[38;5;28;01mNone\u001b[39;00m\n",
      "File \u001b[1;32m~\\anaconda3\\Lib\\site-packages\\urllib3\\connectionpool.py:403\u001b[0m, in \u001b[0;36mHTTPConnectionPool._make_request\u001b[1;34m(self, conn, method, url, timeout, chunked, **httplib_request_kw)\u001b[0m\n\u001b[0;32m    401\u001b[0m \u001b[38;5;66;03m# Trigger any extra validation we need to do.\u001b[39;00m\n\u001b[0;32m    402\u001b[0m \u001b[38;5;28;01mtry\u001b[39;00m:\n\u001b[1;32m--> 403\u001b[0m     \u001b[38;5;28mself\u001b[39m\u001b[38;5;241m.\u001b[39m_validate_conn(conn)\n\u001b[0;32m    404\u001b[0m \u001b[38;5;28;01mexcept\u001b[39;00m (SocketTimeout, BaseSSLError) \u001b[38;5;28;01mas\u001b[39;00m e:\n\u001b[0;32m    405\u001b[0m     \u001b[38;5;66;03m# Py2 raises this as a BaseSSLError, Py3 raises it as socket timeout.\u001b[39;00m\n\u001b[0;32m    406\u001b[0m     \u001b[38;5;28mself\u001b[39m\u001b[38;5;241m.\u001b[39m_raise_timeout(err\u001b[38;5;241m=\u001b[39me, url\u001b[38;5;241m=\u001b[39murl, timeout_value\u001b[38;5;241m=\u001b[39mconn\u001b[38;5;241m.\u001b[39mtimeout)\n",
      "File \u001b[1;32m~\\anaconda3\\Lib\\site-packages\\urllib3\\connectionpool.py:1053\u001b[0m, in \u001b[0;36mHTTPSConnectionPool._validate_conn\u001b[1;34m(self, conn)\u001b[0m\n\u001b[0;32m   1051\u001b[0m \u001b[38;5;66;03m# Force connect early to allow us to validate the connection.\u001b[39;00m\n\u001b[0;32m   1052\u001b[0m \u001b[38;5;28;01mif\u001b[39;00m \u001b[38;5;129;01mnot\u001b[39;00m \u001b[38;5;28mgetattr\u001b[39m(conn, \u001b[38;5;124m\"\u001b[39m\u001b[38;5;124msock\u001b[39m\u001b[38;5;124m\"\u001b[39m, \u001b[38;5;28;01mNone\u001b[39;00m):  \u001b[38;5;66;03m# AppEngine might not have  `.sock`\u001b[39;00m\n\u001b[1;32m-> 1053\u001b[0m     conn\u001b[38;5;241m.\u001b[39mconnect()\n\u001b[0;32m   1055\u001b[0m \u001b[38;5;28;01mif\u001b[39;00m \u001b[38;5;129;01mnot\u001b[39;00m conn\u001b[38;5;241m.\u001b[39mis_verified:\n\u001b[0;32m   1056\u001b[0m     warnings\u001b[38;5;241m.\u001b[39mwarn(\n\u001b[0;32m   1057\u001b[0m         (\n\u001b[0;32m   1058\u001b[0m             \u001b[38;5;124m\"\u001b[39m\u001b[38;5;124mUnverified HTTPS request is being made to host \u001b[39m\u001b[38;5;124m'\u001b[39m\u001b[38;5;132;01m%s\u001b[39;00m\u001b[38;5;124m'\u001b[39m\u001b[38;5;124m. \u001b[39m\u001b[38;5;124m\"\u001b[39m\n\u001b[1;32m   (...)\u001b[0m\n\u001b[0;32m   1063\u001b[0m         InsecureRequestWarning,\n\u001b[0;32m   1064\u001b[0m     )\n",
      "File \u001b[1;32m~\\anaconda3\\Lib\\site-packages\\urllib3\\connection.py:419\u001b[0m, in \u001b[0;36mHTTPSConnection.connect\u001b[1;34m(self)\u001b[0m\n\u001b[0;32m    410\u001b[0m \u001b[38;5;28;01mif\u001b[39;00m (\n\u001b[0;32m    411\u001b[0m     \u001b[38;5;129;01mnot\u001b[39;00m \u001b[38;5;28mself\u001b[39m\u001b[38;5;241m.\u001b[39mca_certs\n\u001b[0;32m    412\u001b[0m     \u001b[38;5;129;01mand\u001b[39;00m \u001b[38;5;129;01mnot\u001b[39;00m \u001b[38;5;28mself\u001b[39m\u001b[38;5;241m.\u001b[39mca_cert_dir\n\u001b[1;32m   (...)\u001b[0m\n\u001b[0;32m    415\u001b[0m     \u001b[38;5;129;01mand\u001b[39;00m \u001b[38;5;28mhasattr\u001b[39m(context, \u001b[38;5;124m\"\u001b[39m\u001b[38;5;124mload_default_certs\u001b[39m\u001b[38;5;124m\"\u001b[39m)\n\u001b[0;32m    416\u001b[0m ):\n\u001b[0;32m    417\u001b[0m     context\u001b[38;5;241m.\u001b[39mload_default_certs()\n\u001b[1;32m--> 419\u001b[0m \u001b[38;5;28mself\u001b[39m\u001b[38;5;241m.\u001b[39msock \u001b[38;5;241m=\u001b[39m ssl_wrap_socket(\n\u001b[0;32m    420\u001b[0m     sock\u001b[38;5;241m=\u001b[39mconn,\n\u001b[0;32m    421\u001b[0m     keyfile\u001b[38;5;241m=\u001b[39m\u001b[38;5;28mself\u001b[39m\u001b[38;5;241m.\u001b[39mkey_file,\n\u001b[0;32m    422\u001b[0m     certfile\u001b[38;5;241m=\u001b[39m\u001b[38;5;28mself\u001b[39m\u001b[38;5;241m.\u001b[39mcert_file,\n\u001b[0;32m    423\u001b[0m     key_password\u001b[38;5;241m=\u001b[39m\u001b[38;5;28mself\u001b[39m\u001b[38;5;241m.\u001b[39mkey_password,\n\u001b[0;32m    424\u001b[0m     ca_certs\u001b[38;5;241m=\u001b[39m\u001b[38;5;28mself\u001b[39m\u001b[38;5;241m.\u001b[39mca_certs,\n\u001b[0;32m    425\u001b[0m     ca_cert_dir\u001b[38;5;241m=\u001b[39m\u001b[38;5;28mself\u001b[39m\u001b[38;5;241m.\u001b[39mca_cert_dir,\n\u001b[0;32m    426\u001b[0m     ca_cert_data\u001b[38;5;241m=\u001b[39m\u001b[38;5;28mself\u001b[39m\u001b[38;5;241m.\u001b[39mca_cert_data,\n\u001b[0;32m    427\u001b[0m     server_hostname\u001b[38;5;241m=\u001b[39mserver_hostname,\n\u001b[0;32m    428\u001b[0m     ssl_context\u001b[38;5;241m=\u001b[39mcontext,\n\u001b[0;32m    429\u001b[0m     tls_in_tls\u001b[38;5;241m=\u001b[39mtls_in_tls,\n\u001b[0;32m    430\u001b[0m )\n\u001b[0;32m    432\u001b[0m \u001b[38;5;66;03m# If we're using all defaults and the connection\u001b[39;00m\n\u001b[0;32m    433\u001b[0m \u001b[38;5;66;03m# is TLSv1 or TLSv1.1 we throw a DeprecationWarning\u001b[39;00m\n\u001b[0;32m    434\u001b[0m \u001b[38;5;66;03m# for the host.\u001b[39;00m\n\u001b[0;32m    435\u001b[0m \u001b[38;5;28;01mif\u001b[39;00m (\n\u001b[0;32m    436\u001b[0m     default_ssl_context\n\u001b[0;32m    437\u001b[0m     \u001b[38;5;129;01mand\u001b[39;00m \u001b[38;5;28mself\u001b[39m\u001b[38;5;241m.\u001b[39mssl_version \u001b[38;5;129;01mis\u001b[39;00m \u001b[38;5;28;01mNone\u001b[39;00m\n\u001b[0;32m    438\u001b[0m     \u001b[38;5;129;01mand\u001b[39;00m \u001b[38;5;28mhasattr\u001b[39m(\u001b[38;5;28mself\u001b[39m\u001b[38;5;241m.\u001b[39msock, \u001b[38;5;124m\"\u001b[39m\u001b[38;5;124mversion\u001b[39m\u001b[38;5;124m\"\u001b[39m)\n\u001b[0;32m    439\u001b[0m     \u001b[38;5;129;01mand\u001b[39;00m \u001b[38;5;28mself\u001b[39m\u001b[38;5;241m.\u001b[39msock\u001b[38;5;241m.\u001b[39mversion() \u001b[38;5;129;01min\u001b[39;00m {\u001b[38;5;124m\"\u001b[39m\u001b[38;5;124mTLSv1\u001b[39m\u001b[38;5;124m\"\u001b[39m, \u001b[38;5;124m\"\u001b[39m\u001b[38;5;124mTLSv1.1\u001b[39m\u001b[38;5;124m\"\u001b[39m}\n\u001b[0;32m    440\u001b[0m ):\n",
      "File \u001b[1;32m~\\anaconda3\\Lib\\site-packages\\urllib3\\util\\ssl_.py:402\u001b[0m, in \u001b[0;36mssl_wrap_socket\u001b[1;34m(sock, keyfile, certfile, cert_reqs, ca_certs, server_hostname, ssl_version, ciphers, ssl_context, ca_cert_dir, key_password, ca_cert_data, tls_in_tls)\u001b[0m\n\u001b[0;32m    400\u001b[0m \u001b[38;5;28;01mif\u001b[39;00m ca_certs \u001b[38;5;129;01mor\u001b[39;00m ca_cert_dir \u001b[38;5;129;01mor\u001b[39;00m ca_cert_data:\n\u001b[0;32m    401\u001b[0m     \u001b[38;5;28;01mtry\u001b[39;00m:\n\u001b[1;32m--> 402\u001b[0m         context\u001b[38;5;241m.\u001b[39mload_verify_locations(ca_certs, ca_cert_dir, ca_cert_data)\n\u001b[0;32m    403\u001b[0m     \u001b[38;5;28;01mexcept\u001b[39;00m (\u001b[38;5;167;01mIOError\u001b[39;00m, \u001b[38;5;167;01mOSError\u001b[39;00m) \u001b[38;5;28;01mas\u001b[39;00m e:\n\u001b[0;32m    404\u001b[0m         \u001b[38;5;28;01mraise\u001b[39;00m SSLError(e)\n",
      "\u001b[1;31mKeyboardInterrupt\u001b[0m: "
     ]
    }
   ],
   "source": [
    "for i in range(0, len(restaurant_links), 20):\n",
    "    folder_number = (i // 20) + 1\n",
    "    folder_name = os.path.join(base_save_path, f\"page {folder_number}\")\n",
    "    os.makedirs(folder_name, exist_ok=True)\n",
    "    \n",
    "    # Estrai il gruppo di URL per questa cartella\n",
    "    links_to_download = restaurant_links[i:i + 20]\n",
    "    \n",
    "    # Scarica ciascun URL e salva il file\n",
    "    for idx, url in enumerate(links_to_download):\n",
    "        filename = os.path.join(folder_name, f\"restaurant{i + idx + 1}.html\")\n",
    "        response = requests.get(url)\n",
    "        \n",
    "        # Salva il contenuto HTML del ristorante nel file\n",
    "        with open(filename, \"w\", encoding=\"utf-8\") as file:\n",
    "            file.write(response.text)"
   ]
  },
  {
   "cell_type": "markdown",
   "metadata": {},
   "source": [
    "## 1.3 Parse downloaded pages\n",
    "\n",
    "### At this point, you should have all the HTML documents about the restaurant of interest, and you can start to extract specific information. The list of the information we desire for each restaurant and their format is as follows:\n",
    "\n",
    "- #### **Restaurant Name** (to save as `restaurantName`): string;\n",
    "- #### **Address** (to save as `address`): string;\n",
    "- #### **City** (to save as `city`): string;\n",
    "- #### **Postal Code** (to save as `postalCode`): string;\n",
    "- #### **Country** (to save as `country`): string;\n",
    "- #### **Price Range**** (to save as `priceRange`): string;\n",
    "- #### **Cuisine Type** (to save as `cuisineType`): string;\n",
    "- #### **Description** (to save as `description`): string;\n",
    "- #### **Facilities and Services** (to save as `facilitiesServices`): list of strings;\n",
    "- #### **Accepted Credit Cards** (to save as `creditCards`): list of strings;\n",
    "- #### **Phone Number** (to save as `phoneNumber`): string;\n",
    "- #### **URL** to the **Restaurant Page** (to save as `website`): string."
   ]
  },
  {
   "cell_type": "code",
   "execution_count": 27,
   "metadata": {
    "tags": []
   },
   "outputs": [],
   "source": [
    "def extract_restaurant_data(file_path):\n",
    "    # Load and parse the HTML file\n",
    "    with open(file_path, \"r\", encoding=\"utf-8\") as file:\n",
    "        html_content = file.read()\n",
    "\n",
    "    soup = BeautifulSoup(html_content, \"html.parser\")\n",
    "\n",
    "    # Initialize the restaurant_info dictionary with default values\n",
    "    restaurant_info = {\n",
    "        'restaurantName': None,\n",
    "        'address': None,\n",
    "        'city': None,\n",
    "        'postalCode': None,\n",
    "        'country': None,\n",
    "        'priceRange': None,\n",
    "        'cuisineType': None,\n",
    "        'description': None,\n",
    "        'facilitiesServices': [],\n",
    "        'creditCards': [],\n",
    "        'phoneNumber': None,\n",
    "        'website': None\n",
    "    }\n",
    "\n",
    "    # Extract Restaurant Name\n",
    "    title_tag = soup.find('h1', class_='data-sheet__title')\n",
    "    if title_tag:\n",
    "        restaurant_info['restaurantName'] = title_tag.get_text(strip=True)\n",
    "\n",
    "    # Extract Address Components\n",
    "    address_text_tag = soup.find(\"div\", class_=\"data-sheet__block--text\")\n",
    "    address_text = address_text_tag.get_text(strip=True)\n",
    "    address_text=re.sub(r'\\bloc\\.\\s*[^,]*,', '', address_text) # Remove location (loc) and the next part up to the comma\n",
    "    if address_text:\n",
    "        address_parts = address_text.replace('\\n', ' ').split(\",\")\n",
    "        restaurant_info[\"address\"] = address_parts[0] if len(address_parts) > 0 else None\n",
    "        restaurant_info[\"city\"] = address_parts[1] if len(address_parts) > 1 else None\n",
    "        restaurant_info[\"postalCode\"] = address_parts[2] if len(address_parts) > 2 else None\n",
    "        restaurant_info[\"country\"] = address_parts[3] if len(address_parts) > 3 else None\n",
    "\n",
    "    # Extract Price Range and Cuisine Type\n",
    "    info_divs = soup.find_all(\"div\", class_=\"data-sheet__block--text\")\n",
    "    if len(info_divs) > 1:\n",
    "        info_text = info_divs[1].text.strip()\n",
    "        if '·' in info_text:\n",
    "            info_parts = info_text.split('·')\n",
    "            restaurant_info['priceRange'] = info_parts[0].strip()\n",
    "            if len(info_parts) > 1:\n",
    "                restaurant_info['cuisineType'] = info_parts[1].strip()\n",
    "\n",
    "    # Extract Description\n",
    "    description_tag = soup.select_one('.data-sheet__description')\n",
    "    if description_tag:\n",
    "        restaurant_info['description'] = description_tag.get_text(strip=True)\n",
    "\n",
    "    # Extract Facilities and Services\n",
    "    facilities_services = [service.get_text(strip=True) for service in soup.select('.restaurant-details__services li')]\n",
    "    if facilities_services:\n",
    "        restaurant_info['facilitiesServices'] = facilities_services\n",
    "\n",
    "    # Extract Accepted Credit Cards (Modify this part to return a list of credit cards)\n",
    "    cards=[]\n",
    "    credit_cards = soup.find_all(\"img\", class_=\"lazy\", height=\"32\")  # Modify as per the HTML structure\n",
    "    for img in credit_cards:\n",
    "        src = img.get('src', '') or img.get('data-src', '')\n",
    "        if src:# Check if 'src' is not empty\n",
    "            text=src.split(\"/\")[-1]\n",
    "            cards.append(text.split(\"-\")[0].capitalize())\n",
    "    restaurant_info[\"creditCards\"]=cards\n",
    "\n",
    "    # Extract Phone Number\n",
    "    phone_span = soup.select_one('.collapse__block-item span')\n",
    "    if phone_span:\n",
    "        restaurant_info['phoneNumber'] = phone_span.get_text(strip=True)\n",
    "\n",
    "    # Extract Website URL\n",
    "    website_link = soup.select_one('.collapse__block-item.link-item a')\n",
    "    if website_link:\n",
    "        restaurant_info['website'] = website_link['href']\n",
    "\n",
    "    return restaurant_info\n"
   ]
  },
  {
   "cell_type": "code",
   "execution_count": 28,
   "metadata": {
    "tags": []
   },
   "outputs": [],
   "source": [
    "def natural_sort_key(s):\n",
    "    return [int(text) if text.isdigit() else text.lower() for text in re.split(r'(\\d+)', s)]"
   ]
  },
  {
   "cell_type": "code",
   "execution_count": 29,
   "metadata": {
    "tags": []
   },
   "outputs": [],
   "source": [
    "def parse_all_folders(base_folder):\n",
    "\n",
    "    \"\"\" Parse all HTML files in a folder structure and aggregate into a DataFrame.\"\"\"\n",
    "\n",
    "    data = []  # List to store all parsed data\n",
    "    \n",
    "    # Traverse through each folder and file in the base_folder\n",
    "    for folder_name in tqdm(sorted(os.listdir(base_folder),key=natural_sort_key),desc=\"Read folder of each page\",unit=\"page\"):\n",
    "        folder_path = os.path.join(base_folder, folder_name)\n",
    "        \n",
    "        # Check if the path is a directory\n",
    "        if os.path.isdir(folder_path):\n",
    "            for filename in sorted(os.listdir(folder_path),key=natural_sort_key):\n",
    "                # Only process HTML files\n",
    "                if filename.endswith(\".html\"):\n",
    "                    file_path = os.path.join(folder_path, filename)\n",
    "                    # Parse the file and add to data list\n",
    "                    restaurant_data = extract_restaurant_data(file_path)\n",
    "                    data.append(restaurant_data)\n",
    "    \n",
    "    # Create DataFrame from collected data\n",
    "    df = pd.DataFrame(data)\n",
    "    return df"
   ]
  },
  {
   "cell_type": "code",
   "execution_count": 32,
   "metadata": {
    "tags": []
   },
   "outputs": [
    {
     "name": "stderr",
     "output_type": "stream",
     "text": [
      "Read folder of each page: 100%|██████████| 100/100 [03:00<00:00,  1.81s/page]\n"
     ]
    }
   ],
   "source": [
    "# Usage :\n",
    "base_save_path = \"E:\\Michelin Restaurants\"\n",
    "df = parse_all_folders(base_save_path)\n",
    "\n",
    "# Save the DataFrame to a CSV file\n",
    "df.to_csv(\"all_restaurants_data.csv\", index=False)"
   ]
  },
  {
   "cell_type": "code",
   "execution_count": 34,
   "metadata": {
    "tags": []
   },
   "outputs": [
    {
     "data": {
      "text/html": [
       "<div>\n",
       "<style scoped>\n",
       "    .dataframe tbody tr th:only-of-type {\n",
       "        vertical-align: middle;\n",
       "    }\n",
       "\n",
       "    .dataframe tbody tr th {\n",
       "        vertical-align: top;\n",
       "    }\n",
       "\n",
       "    .dataframe thead th {\n",
       "        text-align: right;\n",
       "    }\n",
       "</style>\n",
       "<table border=\"1\" class=\"dataframe\">\n",
       "  <thead>\n",
       "    <tr style=\"text-align: right;\">\n",
       "      <th></th>\n",
       "      <th>restaurantName</th>\n",
       "      <th>address</th>\n",
       "      <th>city</th>\n",
       "      <th>postalCode</th>\n",
       "      <th>country</th>\n",
       "      <th>priceRange</th>\n",
       "      <th>cuisineType</th>\n",
       "      <th>description</th>\n",
       "      <th>facilitiesServices</th>\n",
       "      <th>creditCards</th>\n",
       "      <th>phoneNumber</th>\n",
       "      <th>website</th>\n",
       "    </tr>\n",
       "  </thead>\n",
       "  <tbody>\n",
       "    <tr>\n",
       "      <th>0</th>\n",
       "      <td>O Me O Il Mare</td>\n",
       "      <td>Via Roma 45/47</td>\n",
       "      <td>Gragnano</td>\n",
       "      <td>80054</td>\n",
       "      <td>Italy</td>\n",
       "      <td>€€€€</td>\n",
       "      <td>Italian Contemporary, Modern Cuisine</td>\n",
       "      <td>After many years’ experience in Michelin-starr...</td>\n",
       "      <td>[Air conditioning, Interesting wine list, Whee...</td>\n",
       "      <td>[Amex, Dinersclub, Mastercard, Visa]</td>\n",
       "      <td>+39 081 620 0550</td>\n",
       "      <td>http://omeoilmare.com</td>\n",
       "    </tr>\n",
       "    <tr>\n",
       "      <th>1</th>\n",
       "      <td>Donevandro</td>\n",
       "      <td>via Garibaldi 2</td>\n",
       "      <td>Popoli</td>\n",
       "      <td>65026</td>\n",
       "      <td>Italy</td>\n",
       "      <td>€€</td>\n",
       "      <td>Contemporary, Seasonal Cuisine</td>\n",
       "      <td>Up until a few years ago, the owner-chef at th...</td>\n",
       "      <td>[Air conditioning]</td>\n",
       "      <td>[Mastercard, Visa]</td>\n",
       "      <td>+39 388 887 6858</td>\n",
       "      <td>http://www.donevandroristorante.it</td>\n",
       "    </tr>\n",
       "    <tr>\n",
       "      <th>2</th>\n",
       "      <td>Ape Vino e Cucina</td>\n",
       "      <td>Piazza Risorgimento 3</td>\n",
       "      <td>Alba</td>\n",
       "      <td>12051</td>\n",
       "      <td>Italy</td>\n",
       "      <td>€€</td>\n",
       "      <td>Piedmontese, Contemporary</td>\n",
       "      <td>This attractive restaurant in the heart of Alb...</td>\n",
       "      <td>[Air conditioning, Terrace, Wheelchair access]</td>\n",
       "      <td>[Amex, Dinersclub, Maestrocard, Mastercard, Visa]</td>\n",
       "      <td>+39 0173 363453</td>\n",
       "      <td>https://www.apewinebar.it/alba/</td>\n",
       "    </tr>\n",
       "    <tr>\n",
       "      <th>3</th>\n",
       "      <td>Da Bob Cook Fish</td>\n",
       "      <td>largo Parsano vecchio 16</td>\n",
       "      <td>Sorrento</td>\n",
       "      <td>80067</td>\n",
       "      <td>Italy</td>\n",
       "      <td>€€</td>\n",
       "      <td>Seafood</td>\n",
       "      <td>Working in partnership with the nearby fishmon...</td>\n",
       "      <td>[Air conditioning, Terrace]</td>\n",
       "      <td>[Amex, Dinersclub, Mastercard, Visa]</td>\n",
       "      <td>+39 081 1778 3873</td>\n",
       "      <td>https://www.dabobcookfish.com/</td>\n",
       "    </tr>\n",
       "    <tr>\n",
       "      <th>4</th>\n",
       "      <td>DA_MÓ</td>\n",
       "      <td>Via Bruno Buozzi 20</td>\n",
       "      <td>Matera</td>\n",
       "      <td>75100</td>\n",
       "      <td>Italy</td>\n",
       "      <td>€€</td>\n",
       "      <td>Regional Cuisine, Contemporary</td>\n",
       "      <td>This new, restored restaurant in the upper par...</td>\n",
       "      <td>[Air conditioning, Terrace]</td>\n",
       "      <td>[Amex, Dinersclub, Mastercard, Visa]</td>\n",
       "      <td>+39 0835 686548</td>\n",
       "      <td>https://www.damoristorante.it/</td>\n",
       "    </tr>\n",
       "  </tbody>\n",
       "</table>\n",
       "</div>"
      ],
      "text/plain": [
       "      restaurantName                   address       city postalCode country  \\\n",
       "0     O Me O Il Mare            Via Roma 45/47   Gragnano      80054   Italy   \n",
       "1         Donevandro           via Garibaldi 2     Popoli      65026   Italy   \n",
       "2  Ape Vino e Cucina     Piazza Risorgimento 3       Alba      12051   Italy   \n",
       "3   Da Bob Cook Fish  largo Parsano vecchio 16   Sorrento      80067   Italy   \n",
       "4              DA_MÓ       Via Bruno Buozzi 20     Matera      75100   Italy   \n",
       "\n",
       "  priceRange                           cuisineType  \\\n",
       "0       €€€€  Italian Contemporary, Modern Cuisine   \n",
       "1         €€        Contemporary, Seasonal Cuisine   \n",
       "2         €€             Piedmontese, Contemporary   \n",
       "3         €€                               Seafood   \n",
       "4         €€        Regional Cuisine, Contemporary   \n",
       "\n",
       "                                         description  \\\n",
       "0  After many years’ experience in Michelin-starr...   \n",
       "1  Up until a few years ago, the owner-chef at th...   \n",
       "2  This attractive restaurant in the heart of Alb...   \n",
       "3  Working in partnership with the nearby fishmon...   \n",
       "4  This new, restored restaurant in the upper par...   \n",
       "\n",
       "                                  facilitiesServices  \\\n",
       "0  [Air conditioning, Interesting wine list, Whee...   \n",
       "1                                 [Air conditioning]   \n",
       "2     [Air conditioning, Terrace, Wheelchair access]   \n",
       "3                        [Air conditioning, Terrace]   \n",
       "4                        [Air conditioning, Terrace]   \n",
       "\n",
       "                                         creditCards        phoneNumber  \\\n",
       "0               [Amex, Dinersclub, Mastercard, Visa]   +39 081 620 0550   \n",
       "1                                 [Mastercard, Visa]   +39 388 887 6858   \n",
       "2  [Amex, Dinersclub, Maestrocard, Mastercard, Visa]    +39 0173 363453   \n",
       "3               [Amex, Dinersclub, Mastercard, Visa]  +39 081 1778 3873   \n",
       "4               [Amex, Dinersclub, Mastercard, Visa]    +39 0835 686548   \n",
       "\n",
       "                              website  \n",
       "0               http://omeoilmare.com  \n",
       "1  http://www.donevandroristorante.it  \n",
       "2     https://www.apewinebar.it/alba/  \n",
       "3      https://www.dabobcookfish.com/  \n",
       "4      https://www.damoristorante.it/  "
      ]
     },
     "execution_count": 34,
     "metadata": {},
     "output_type": "execute_result"
    }
   ],
   "source": [
    "df.head()"
   ]
  },
  {
   "cell_type": "code",
   "execution_count": 35,
   "metadata": {
    "tags": []
   },
   "outputs": [
    {
     "data": {
      "text/html": [
       "<div>\n",
       "<style scoped>\n",
       "    .dataframe tbody tr th:only-of-type {\n",
       "        vertical-align: middle;\n",
       "    }\n",
       "\n",
       "    .dataframe tbody tr th {\n",
       "        vertical-align: top;\n",
       "    }\n",
       "\n",
       "    .dataframe thead th {\n",
       "        text-align: right;\n",
       "    }\n",
       "</style>\n",
       "<table border=\"1\" class=\"dataframe\">\n",
       "  <thead>\n",
       "    <tr style=\"text-align: right;\">\n",
       "      <th></th>\n",
       "      <th>restaurantName</th>\n",
       "      <th>address</th>\n",
       "      <th>city</th>\n",
       "      <th>postalCode</th>\n",
       "      <th>country</th>\n",
       "      <th>priceRange</th>\n",
       "      <th>cuisineType</th>\n",
       "      <th>description</th>\n",
       "      <th>facilitiesServices</th>\n",
       "      <th>creditCards</th>\n",
       "      <th>phoneNumber</th>\n",
       "      <th>website</th>\n",
       "    </tr>\n",
       "  </thead>\n",
       "  <tbody>\n",
       "    <tr>\n",
       "      <th>1978</th>\n",
       "      <td>Umami</td>\n",
       "      <td>Via Ugo Secondo Partigiano 1</td>\n",
       "      <td>Badalucco</td>\n",
       "      <td>18010</td>\n",
       "      <td>Italy</td>\n",
       "      <td>€€</td>\n",
       "      <td>Modern Cuisine</td>\n",
       "      <td>A young chef with experience in renowned resta...</td>\n",
       "      <td>[Terrace, Wheelchair access]</td>\n",
       "      <td>[Amex, Mastercard, Visa]</td>\n",
       "      <td>+39 331 338 6005</td>\n",
       "      <td>https://www.umamirestaurant.it/</td>\n",
       "    </tr>\n",
       "    <tr>\n",
       "      <th>1979</th>\n",
       "      <td>Visione Restaurant and Living</td>\n",
       "      <td>Strada Nicolini Basso 34</td>\n",
       "      <td>Barbaresco</td>\n",
       "      <td>12050</td>\n",
       "      <td>Italy</td>\n",
       "      <td>€€€</td>\n",
       "      <td>Contemporary, Piedmontese</td>\n",
       "      <td>At this restaurant, new, young and enthusiasti...</td>\n",
       "      <td>[Air conditioning, Car park]</td>\n",
       "      <td>[Amex, Maestrocard, Mastercard, Visa]</td>\n",
       "      <td>+39 328 134 0218</td>\n",
       "      <td>https://www.ristorantevisione.it</td>\n",
       "    </tr>\n",
       "    <tr>\n",
       "      <th>1980</th>\n",
       "      <td>Ristorante de LEN</td>\n",
       "      <td>Via Cesare Battisti 66</td>\n",
       "      <td>Cortina d'Ampezzo</td>\n",
       "      <td>32043</td>\n",
       "      <td>Italy</td>\n",
       "      <td>€€</td>\n",
       "      <td>Regional Cuisine</td>\n",
       "      <td>Just a stone’s throw from the central and very...</td>\n",
       "      <td>[Wheelchair access]</td>\n",
       "      <td>[Amex, Dinersclub, Mastercard, Visa]</td>\n",
       "      <td>+39 0436 4246</td>\n",
       "      <td>https://hoteldelen.it</td>\n",
       "    </tr>\n",
       "    <tr>\n",
       "      <th>1981</th>\n",
       "      <td>AceroRosso</td>\n",
       "      <td>Via Ruvignan 1</td>\n",
       "      <td>Vodo di Cadore</td>\n",
       "      <td>32040</td>\n",
       "      <td>Italy</td>\n",
       "      <td>€€</td>\n",
       "      <td>Regional Cuisine</td>\n",
       "      <td>This secluded mountain chalet immersed in verd...</td>\n",
       "      <td>[Car park, Terrace, Wheelchair access]</td>\n",
       "      <td>[Mastercard, Visa]</td>\n",
       "      <td>+39 0435 489653</td>\n",
       "      <td>https://www.acerorossodolomiti.it</td>\n",
       "    </tr>\n",
       "    <tr>\n",
       "      <th>1982</th>\n",
       "      <td>Café Les Paillotes</td>\n",
       "      <td>piazza Le Laudi 2</td>\n",
       "      <td>Pescara</td>\n",
       "      <td>65129</td>\n",
       "      <td>Italy</td>\n",
       "      <td>€€€</td>\n",
       "      <td>Modern Cuisine, Seafood</td>\n",
       "      <td>This old acquaintance of the Michelin Guide no...</td>\n",
       "      <td>[Air conditioning, Interesting wine list, Rest...</td>\n",
       "      <td>[Amex, Dinersclub, Mastercard, Visa]</td>\n",
       "      <td>+39 085 61809</td>\n",
       "      <td>https://www.lespaillotes.it/</td>\n",
       "    </tr>\n",
       "  </tbody>\n",
       "</table>\n",
       "</div>"
      ],
      "text/plain": [
       "                     restaurantName                       address  \\\n",
       "1978                          Umami  Via Ugo Secondo Partigiano 1   \n",
       "1979  Visione Restaurant and Living      Strada Nicolini Basso 34   \n",
       "1980              Ristorante de LEN        Via Cesare Battisti 66   \n",
       "1981                     AceroRosso                Via Ruvignan 1   \n",
       "1982             Café Les Paillotes             piazza Le Laudi 2   \n",
       "\n",
       "                    city postalCode country priceRange  \\\n",
       "1978           Badalucco      18010   Italy         €€   \n",
       "1979          Barbaresco      12050   Italy        €€€   \n",
       "1980   Cortina d'Ampezzo      32043   Italy         €€   \n",
       "1981      Vodo di Cadore      32040   Italy         €€   \n",
       "1982             Pescara      65129   Italy        €€€   \n",
       "\n",
       "                    cuisineType  \\\n",
       "1978             Modern Cuisine   \n",
       "1979  Contemporary, Piedmontese   \n",
       "1980           Regional Cuisine   \n",
       "1981           Regional Cuisine   \n",
       "1982    Modern Cuisine, Seafood   \n",
       "\n",
       "                                            description  \\\n",
       "1978  A young chef with experience in renowned resta...   \n",
       "1979  At this restaurant, new, young and enthusiasti...   \n",
       "1980  Just a stone’s throw from the central and very...   \n",
       "1981  This secluded mountain chalet immersed in verd...   \n",
       "1982  This old acquaintance of the Michelin Guide no...   \n",
       "\n",
       "                                     facilitiesServices  \\\n",
       "1978                       [Terrace, Wheelchair access]   \n",
       "1979                       [Air conditioning, Car park]   \n",
       "1980                                [Wheelchair access]   \n",
       "1981             [Car park, Terrace, Wheelchair access]   \n",
       "1982  [Air conditioning, Interesting wine list, Rest...   \n",
       "\n",
       "                                creditCards       phoneNumber  \\\n",
       "1978               [Amex, Mastercard, Visa]  +39 331 338 6005   \n",
       "1979  [Amex, Maestrocard, Mastercard, Visa]  +39 328 134 0218   \n",
       "1980   [Amex, Dinersclub, Mastercard, Visa]     +39 0436 4246   \n",
       "1981                     [Mastercard, Visa]   +39 0435 489653   \n",
       "1982   [Amex, Dinersclub, Mastercard, Visa]     +39 085 61809   \n",
       "\n",
       "                                website  \n",
       "1978    https://www.umamirestaurant.it/  \n",
       "1979   https://www.ristorantevisione.it  \n",
       "1980              https://hoteldelen.it  \n",
       "1981  https://www.acerorossodolomiti.it  \n",
       "1982       https://www.lespaillotes.it/  "
      ]
     },
     "execution_count": 35,
     "metadata": {},
     "output_type": "execute_result"
    }
   ],
   "source": [
    "df.tail()\n"
   ]
  }
 ],
 "metadata": {
  "kernelspec": {
   "display_name": "Python 3 (ipykernel)",
   "language": "python",
   "name": "python3"
  },
  "language_info": {
   "codemirror_mode": {
    "name": "ipython",
    "version": 3
   },
   "file_extension": ".py",
   "mimetype": "text/x-python",
   "name": "python",
   "nbconvert_exporter": "python",
   "pygments_lexer": "ipython3",
   "version": "3.11.5"
  }
 },
 "nbformat": 4,
 "nbformat_minor": 4
}
